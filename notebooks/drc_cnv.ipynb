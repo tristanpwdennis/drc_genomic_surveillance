{
 "cells": [
  {
   "cell_type": "code",
   "execution_count": 1,
   "metadata": {},
   "outputs": [],
   "source": [
    "import malariagen_data\n",
    "import allel\n",
    "import matplotlib.pyplot as plt\n",
    "import pandas as pd\n",
    "import plotly.express as px\n",
    "import numpy as np\n",
    "import seaborn as sns"
   ]
  },
  {
   "cell_type": "code",
   "execution_count": 2,
   "metadata": {},
   "outputs": [
    {
     "data": {
      "application/javascript": "(function(root) {\n  function now() {\n    return new Date();\n  }\n\n  const force = true;\n\n  if (typeof root._bokeh_onload_callbacks === \"undefined\" || force === true) {\n    root._bokeh_onload_callbacks = [];\n    root._bokeh_is_loading = undefined;\n  }\n\nconst JS_MIME_TYPE = 'application/javascript';\n  const HTML_MIME_TYPE = 'text/html';\n  const EXEC_MIME_TYPE = 'application/vnd.bokehjs_exec.v0+json';\n  const CLASS_NAME = 'output_bokeh rendered_html';\n\n  /**\n   * Render data to the DOM node\n   */\n  function render(props, node) {\n    const script = document.createElement(\"script\");\n    node.appendChild(script);\n  }\n\n  /**\n   * Handle when an output is cleared or removed\n   */\n  function handleClearOutput(event, handle) {\n    function drop(id) {\n      const view = Bokeh.index.get_by_id(id)\n      if (view != null) {\n        view.model.document.clear()\n        Bokeh.index.delete(view)\n      }\n    }\n\n    const cell = handle.cell;\n\n    const id = cell.output_area._bokeh_element_id;\n    const server_id = cell.output_area._bokeh_server_id;\n\n    // Clean up Bokeh references\n    if (id != null) {\n      drop(id)\n    }\n\n    if (server_id !== undefined) {\n      // Clean up Bokeh references\n      const cmd_clean = \"from bokeh.io.state import curstate; print(curstate().uuid_to_server['\" + server_id + \"'].get_sessions()[0].document.roots[0]._id)\";\n      cell.notebook.kernel.execute(cmd_clean, {\n        iopub: {\n          output: function(msg) {\n            const id = msg.content.text.trim()\n            drop(id)\n          }\n        }\n      });\n      // Destroy server and session\n      const cmd_destroy = \"import bokeh.io.notebook as ion; ion.destroy_server('\" + server_id + \"')\";\n      cell.notebook.kernel.execute(cmd_destroy);\n    }\n  }\n\n  /**\n   * Handle when a new output is added\n   */\n  function handleAddOutput(event, handle) {\n    const output_area = handle.output_area;\n    const output = handle.output;\n\n    // limit handleAddOutput to display_data with EXEC_MIME_TYPE content only\n    if ((output.output_type != \"display_data\") || (!Object.prototype.hasOwnProperty.call(output.data, EXEC_MIME_TYPE))) {\n      return\n    }\n\n    const toinsert = output_area.element.find(\".\" + CLASS_NAME.split(' ')[0]);\n\n    if (output.metadata[EXEC_MIME_TYPE][\"id\"] !== undefined) {\n      toinsert[toinsert.length - 1].firstChild.textContent = output.data[JS_MIME_TYPE];\n      // store reference to embed id on output_area\n      output_area._bokeh_element_id = output.metadata[EXEC_MIME_TYPE][\"id\"];\n    }\n    if (output.metadata[EXEC_MIME_TYPE][\"server_id\"] !== undefined) {\n      const bk_div = document.createElement(\"div\");\n      bk_div.innerHTML = output.data[HTML_MIME_TYPE];\n      const script_attrs = bk_div.children[0].attributes;\n      for (let i = 0; i < script_attrs.length; i++) {\n        toinsert[toinsert.length - 1].firstChild.setAttribute(script_attrs[i].name, script_attrs[i].value);\n        toinsert[toinsert.length - 1].firstChild.textContent = bk_div.children[0].textContent\n      }\n      // store reference to server id on output_area\n      output_area._bokeh_server_id = output.metadata[EXEC_MIME_TYPE][\"server_id\"];\n    }\n  }\n\n  function register_renderer(events, OutputArea) {\n\n    function append_mime(data, metadata, element) {\n      // create a DOM node to render to\n      const toinsert = this.create_output_subarea(\n        metadata,\n        CLASS_NAME,\n        EXEC_MIME_TYPE\n      );\n      this.keyboard_manager.register_events(toinsert);\n      // Render to node\n      const props = {data: data, metadata: metadata[EXEC_MIME_TYPE]};\n      render(props, toinsert[toinsert.length - 1]);\n      element.append(toinsert);\n      return toinsert\n    }\n\n    /* Handle when an output is cleared or removed */\n    events.on('clear_output.CodeCell', handleClearOutput);\n    events.on('delete.Cell', handleClearOutput);\n\n    /* Handle when a new output is added */\n    events.on('output_added.OutputArea', handleAddOutput);\n\n    /**\n     * Register the mime type and append_mime function with output_area\n     */\n    OutputArea.prototype.register_mime_type(EXEC_MIME_TYPE, append_mime, {\n      /* Is output safe? */\n      safe: true,\n      /* Index of renderer in `output_area.display_order` */\n      index: 0\n    });\n  }\n\n  // register the mime type if in Jupyter Notebook environment and previously unregistered\n  if (root.Jupyter !== undefined) {\n    const events = require('base/js/events');\n    const OutputArea = require('notebook/js/outputarea').OutputArea;\n\n    if (OutputArea.prototype.mime_types().indexOf(EXEC_MIME_TYPE) == -1) {\n      register_renderer(events, OutputArea);\n    }\n  }\n  if (typeof (root._bokeh_timeout) === \"undefined\" || force === true) {\n    root._bokeh_timeout = Date.now() + 5000;\n    root._bokeh_failed_load = false;\n  }\n\n  const NB_LOAD_WARNING = {'data': {'text/html':\n     \"<div style='background-color: #fdd'>\\n\"+\n     \"<p>\\n\"+\n     \"BokehJS does not appear to have successfully loaded. If loading BokehJS from CDN, this \\n\"+\n     \"may be due to a slow or bad network connection. Possible fixes:\\n\"+\n     \"</p>\\n\"+\n     \"<ul>\\n\"+\n     \"<li>re-rerun `output_notebook()` to attempt to load from CDN again, or</li>\\n\"+\n     \"<li>use INLINE resources instead, as so:</li>\\n\"+\n     \"</ul>\\n\"+\n     \"<code>\\n\"+\n     \"from bokeh.resources import INLINE\\n\"+\n     \"output_notebook(resources=INLINE)\\n\"+\n     \"</code>\\n\"+\n     \"</div>\"}};\n\n  function display_loaded() {\n    const el = document.getElementById(null);\n    if (el != null) {\n      el.textContent = \"BokehJS is loading...\";\n    }\n    if (root.Bokeh !== undefined) {\n      if (el != null) {\n        el.textContent = \"BokehJS \" + root.Bokeh.version + \" successfully loaded.\";\n      }\n    } else if (Date.now() < root._bokeh_timeout) {\n      setTimeout(display_loaded, 100)\n    }\n  }\n\n  function run_callbacks() {\n    try {\n      root._bokeh_onload_callbacks.forEach(function(callback) {\n        if (callback != null)\n          callback();\n      });\n    } finally {\n      delete root._bokeh_onload_callbacks\n    }\n    console.debug(\"Bokeh: all callbacks have finished\");\n  }\n\n  function load_libs(css_urls, js_urls, callback) {\n    if (css_urls == null) css_urls = [];\n    if (js_urls == null) js_urls = [];\n\n    root._bokeh_onload_callbacks.push(callback);\n    if (root._bokeh_is_loading > 0) {\n      console.debug(\"Bokeh: BokehJS is being loaded, scheduling callback at\", now());\n      return null;\n    }\n    if (js_urls == null || js_urls.length === 0) {\n      run_callbacks();\n      return null;\n    }\n    console.debug(\"Bokeh: BokehJS not loaded, scheduling load and callback at\", now());\n    root._bokeh_is_loading = css_urls.length + js_urls.length;\n\n    function on_load() {\n      root._bokeh_is_loading--;\n      if (root._bokeh_is_loading === 0) {\n        console.debug(\"Bokeh: all BokehJS libraries/stylesheets loaded\");\n        run_callbacks()\n      }\n    }\n\n    function on_error(url) {\n      console.error(\"failed to load \" + url);\n    }\n\n    for (let i = 0; i < css_urls.length; i++) {\n      const url = css_urls[i];\n      const element = document.createElement(\"link\");\n      element.onload = on_load;\n      element.onerror = on_error.bind(null, url);\n      element.rel = \"stylesheet\";\n      element.type = \"text/css\";\n      element.href = url;\n      console.debug(\"Bokeh: injecting link tag for BokehJS stylesheet: \", url);\n      document.body.appendChild(element);\n    }\n\n    for (let i = 0; i < js_urls.length; i++) {\n      const url = js_urls[i];\n      const element = document.createElement('script');\n      element.onload = on_load;\n      element.onerror = on_error.bind(null, url);\n      element.async = false;\n      element.src = url;\n      console.debug(\"Bokeh: injecting script tag for BokehJS library: \", url);\n      document.head.appendChild(element);\n    }\n  };\n\n  function inject_raw_css(css) {\n    const element = document.createElement(\"style\");\n    element.appendChild(document.createTextNode(css));\n    document.body.appendChild(element);\n  }\n\n  const js_urls = [\"https://cdn.bokeh.org/bokeh/release/bokeh-3.3.4.min.js\", \"https://cdn.bokeh.org/bokeh/release/bokeh-gl-3.3.4.min.js\", \"https://cdn.bokeh.org/bokeh/release/bokeh-widgets-3.3.4.min.js\", \"https://cdn.bokeh.org/bokeh/release/bokeh-tables-3.3.4.min.js\", \"https://cdn.bokeh.org/bokeh/release/bokeh-mathjax-3.3.4.min.js\"];\n  const css_urls = [];\n\n  const inline_js = [    function(Bokeh) {\n      Bokeh.set_log_level(\"info\");\n    },\nfunction(Bokeh) {\n    }\n  ];\n\n  function run_inline_js() {\n    if (root.Bokeh !== undefined || force === true) {\n          for (let i = 0; i < inline_js.length; i++) {\n      inline_js[i].call(root, root.Bokeh);\n    }\n} else if (Date.now() < root._bokeh_timeout) {\n      setTimeout(run_inline_js, 100);\n    } else if (!root._bokeh_failed_load) {\n      console.log(\"Bokeh: BokehJS failed to load within specified timeout.\");\n      root._bokeh_failed_load = true;\n    } else if (force !== true) {\n      const cell = $(document.getElementById(null)).parents('.cell').data().cell;\n      cell.output_area.append_execute_result(NB_LOAD_WARNING)\n    }\n  }\n\n  if (root._bokeh_is_loading === 0) {\n    console.debug(\"Bokeh: BokehJS loaded, going straight to plotting\");\n    run_inline_js();\n  } else {\n    load_libs(css_urls, js_urls, function() {\n      console.debug(\"Bokeh: BokehJS plotting callback run at\", now());\n      run_inline_js();\n    });\n  }\n}(window));",
      "application/vnd.bokehjs_load.v0+json": ""
     },
     "metadata": {},
     "output_type": "display_data"
    },
    {
     "data": {
      "text/html": [
       "\n",
       "            <table class=\"malariagen-ag3\">\n",
       "                <thead>\n",
       "                    <tr>\n",
       "                        <th style=\"text-align: left\" colspan=\"2\">MalariaGEN Ag3 API client</th>\n",
       "                    </tr>\n",
       "                    <tr><td colspan=\"2\" style=\"text-align: left\">\n",
       "                        Please note that data are subject to terms of use,\n",
       "                        for more information see <a href=\"https://www.malariagen.net/data\">\n",
       "                        the MalariaGEN website</a> or contact support@malariagen.net.\n",
       "                        See also the <a href=\"https://malariagen.github.io/malariagen-data-python/v0.0.0.post782+5e502bf/Ag3.html\">Ag3 API docs</a>.\n",
       "                    </td></tr>\n",
       "                </thead>\n",
       "                <tbody>\n",
       "                    <tr>\n",
       "                        <th style=\"text-align: left\">\n",
       "                            Storage URL\n",
       "                        </th>\n",
       "                        <td>gs://vo_agam_release/</td>\n",
       "                    </tr>\n",
       "                    <tr>\n",
       "                        <th style=\"text-align: left\">\n",
       "                            Data releases available\n",
       "                        </th>\n",
       "                        <td>3.0, 3.1, 3.10, 3.11, 3.2, 3.3, 3.4, 3.5, 3.6, 3.7, 3.8, 3.9</td>\n",
       "                    </tr>\n",
       "                    <tr>\n",
       "                        <th style=\"text-align: left\">\n",
       "                            Results cache\n",
       "                        </th>\n",
       "                        <td>/Users/dennistpw/Projects/drc_genomic_surveillance/data</td>\n",
       "                    </tr>\n",
       "                    <tr>\n",
       "                        <th style=\"text-align: left\">\n",
       "                            Cohorts analysis\n",
       "                        </th>\n",
       "                        <td>20240717</td>\n",
       "                    </tr>\n",
       "                    <tr>\n",
       "                        <th style=\"text-align: left\">\n",
       "                            AIM analysis\n",
       "                        </th>\n",
       "                        <td>20220528</td>\n",
       "                    </tr>\n",
       "                    <tr>\n",
       "                        <th style=\"text-align: left\">\n",
       "                            Site filters analysis\n",
       "                        </th>\n",
       "                        <td>dt_20200416</td>\n",
       "                    </tr>\n",
       "                    <tr>\n",
       "                        <th style=\"text-align: left\">\n",
       "                            Software version\n",
       "                        </th>\n",
       "                        <td>malariagen_data 0.0.0.post782+5e502bf</td>\n",
       "                    </tr>\n",
       "                    <tr>\n",
       "                        <th style=\"text-align: left\">\n",
       "                            Client location\n",
       "                        </th>\n",
       "                        <td>Queensland, Australia</td>\n",
       "                    </tr>\n",
       "                </tbody>\n",
       "            </table>\n",
       "        "
      ],
      "text/plain": [
       "<MalariaGEN Ag3 API client>\n",
       "Storage URL             : gs://vo_agam_release/\n",
       "Data releases available : 3.0, 3.1, 3.10, 3.11, 3.2, 3.3, 3.4, 3.5, 3.6, 3.7, 3.8, 3.9\n",
       "Results cache           : /Users/dennistpw/Projects/drc_genomic_surveillance/data\n",
       "Cohorts analysis        : 20240717\n",
       "AIM analysis            : 20220528\n",
       "Site filters analysis   : dt_20200416\n",
       "Software version        : malariagen_data 0.0.0.post782+5e502bf\n",
       "Client location         : Queensland, Australia\n",
       "---\n",
       "Please note that data are subject to terms of use,\n",
       "for more information see https://www.malariagen.net/data\n",
       "or contact support@malariagen.net. For API documentation see \n",
       "https://malariagen.github.io/malariagen-data-python/v0.0.0.post782+5e502bf/Ag3.html"
      ]
     },
     "execution_count": 2,
     "metadata": {},
     "output_type": "execute_result"
    }
   ],
   "source": [
    "ag3 = malariagen_data.Ag3(\n",
    "    results_cache=\"/Users/dennistpw/Projects/drc_genomic_surveillance/data/\",\n",
    "    pre=True\n",
    ")\n",
    "ag3"
   ]
  },
  {
   "cell_type": "code",
   "execution_count": 6,
   "metadata": {},
   "outputs": [],
   "source": [
    "#Define all the sample sets we want to include and exclude based on Poppy's analyses\n",
    "drc_sample_sets = [\n",
    "    '1264-VO-CD-WATSENGA-VMF00161',\n",
    "    '1264-VO-CD-WATSENGA-VMF00164',\n",
    "]\n",
    "ref_sample_sets = [\n",
    "    # 'AG1000G-CD',\n",
    "    'AG1000G-CF',\n",
    "    'AG1000G-TZ',\n",
    "    'AG1000G-UG',\n",
    "#    'AG1000G-GA-A',\n",
    "#    'AG1000G-MZ',\n",
    "    'AG1000G-CM-A',\n",
    "    'AG1000G-BF-A',\n",
    "    '1273-VO-ZM-MULEBA-VMF00176',\n",
    "]\n",
    "sample_sets = drc_sample_sets + ref_sample_sets\n",
    "\n",
    "locations_blacklist = [\n",
    "    'Mayos',\n",
    "    'Daiguene',\n",
    "    'Gbadolite',\n",
    "    'Muheza',\n",
    "]\n",
    "\n",
    "samples_blacklist = [\n",
    "    \"AB0203-C\",\n",
    "    \"AB0177-C\",\n",
    "    \"AN0085-C\",\n",
    "    \"AN0107-C\",\n",
    "    \"AC0223-C\",\n",
    "    \"AC0240-C\",\n",
    "    \"AB0207-C\",\n",
    "    \"AB0158-Cx\",\n",
    "]\n",
    "\n",
    "drc_samples_blacklist = ['VBS48708-6367STDY9888400', 'VBS48725-6367STDY9888417']\n",
    "\n",
    "cat_ordered = [\n",
    "    'Burkina Faso',\n",
    "    'Cameroon',\n",
    "    'Central African Republic',\n",
    "    'Uganda',\n",
    "    'Tanzania',\n",
    "    'Zambia',\n",
    "    'DRC Far North',\n",
    "    'DRC South East',\n",
    "    'DRC South West',\n",
    "    'DRC Forest'\n",
    "]"
   ]
  },
  {
   "cell_type": "code",
   "execution_count": 7,
   "metadata": {},
   "outputs": [
    {
     "data": {
      "text/plain": [
       "group\n",
       "Burkina Faso                 95\n",
       "Cameroon                     95\n",
       "Central African Republic     55\n",
       "DRC Far North                46\n",
       "DRC Forest (Tshopo)         118\n",
       "DRC South East              320\n",
       "DRC South West              187\n",
       "Tanzania                     32\n",
       "Uganda                      205\n",
       "Zambia                      201\n",
       "dtype: int64"
      ]
     },
     "execution_count": 7,
     "metadata": {},
     "output_type": "execute_result"
    }
   ],
   "source": [
    "# Now define sample analysis pop from metadata\n",
    "\n",
    "drc_metadata = ag3.sample_metadata(sample_query=(\n",
    "        \"taxon == 'gambiae' and \"\n",
    "        f\"sample_set in {sample_sets} and \"\n",
    "        f\"location not in {locations_blacklist} and \"\n",
    "        f\"sample_id not in {samples_blacklist + drc_samples_blacklist}\"\n",
    "    ))\n",
    "\n",
    "# add coloring category\n",
    "drc_metadata.loc[:, \"group\"] = drc_metadata[\"country\"].copy()\n",
    "drc_metadata.loc[(drc_metadata[\"admin1_name\"] == \"Nord-Ubangi\"), \"group\"] = \"DRC Far North\"\n",
    "drc_metadata.loc[(drc_metadata[\"admin1_name\"] == \"Upper Uele\"), \"group\"] = \"DRC Far North\"\n",
    "drc_metadata.loc[(drc_metadata[\"admin1_name\"] == \"Kongo-Central\"), \"group\"] = \"DRC South West\"\n",
    "drc_metadata.loc[(drc_metadata[\"admin1_name\"] == \"Kinshasa\"), \"group\"] = \"DRC South West\"\n",
    "drc_metadata.loc[(drc_metadata[\"admin1_name\"] == \"Mai-Ndombe\"), \"group\"] = \"DRC South West\"\n",
    "drc_metadata.loc[(drc_metadata[\"admin1_name\"] == \"Sankuru\"), \"group\"] = \"DRC South West\"\n",
    "drc_metadata.loc[(drc_metadata[\"admin1_name\"] == \"South Kivu\"), \"group\"] = \"DRC South East\"\n",
    "drc_metadata.loc[(drc_metadata[\"admin1_name\"] == \"Central Kasai\"), \"group\"] = \"DRC South East\"\n",
    "drc_metadata.loc[(drc_metadata[\"admin1_name\"] == \"Tanganyika\"), \"group\"] = \"DRC South East\"\n",
    "drc_metadata.loc[(drc_metadata[\"admin1_name\"] == \"Haut-Katanga\"), \"group\"] = \"DRC South East\"\n",
    "drc_metadata.loc[(drc_metadata[\"admin1_name\"] == \"Tshopo\"), \"group\"] = \"DRC Forest (Tshopo)\"\n",
    "drc_metadata.groupby(\"group\").size()"
   ]
  },
  {
   "cell_type": "code",
   "execution_count": 10,
   "metadata": {},
   "outputs": [],
   "source": [
    "def prep_cnv_tab(contig):\n",
    "\n",
    "  disco_calls = ag3.cnv_discordant_read_calls(\n",
    "      contig=contig,\n",
    "      sample_sets = sample_sets\n",
    "  )\n",
    "  #reindex df\n",
    "  #drc_df_samples.reset_index(inplace=True)\n",
    "\n",
    "  cohort_dict = {}\n",
    "  #define dict of indices\n",
    "  for pop in drc_metadata['group'].unique():\n",
    "    cohort_dict[pop] = drc_metadata[drc_metadata['group'] == pop].index.tolist()\n",
    "\n",
    "  cnv_gt = allel.HaplotypeArray(disco_calls['call_genotype'])\n",
    "  ac = cnv_gt.count_alleles()\n",
    "\n",
    "  ac_bool = ac[:,1] > 0\n",
    "  gt_seg = cnv_gt[ac_bool]\n",
    "\n",
    "  dupids = disco_calls['variant_id'][ac_bool].compute()\n",
    "\n",
    "  ac_bypop = gt_seg.count_alleles_subpops(cohort_dict, max_allele=1)\n",
    "  #gt_bypop\n",
    "\n",
    "  freq_dict = {}\n",
    "\n",
    "  # Iterate over each key-value pair in the original dictionary\n",
    "  for key, array in ac_bypop.items():\n",
    "      # Calculate the sum of the columns\n",
    "      row_sum = np.sum(array, axis=1)\n",
    "      # Divide the second column by the sum of the corresponding row\n",
    "      result = array[:, 1] / row_sum\n",
    "      # Store the result in the new dictionary\n",
    "      freq_dict[key] = result\n",
    "\n",
    "  # Output the result dictionary\n",
    "\n",
    "  df = pd.DataFrame(freq_dict)\n",
    "  df['dup'] = dupids\n",
    "  return(df)"
   ]
  },
  {
   "cell_type": "code",
   "execution_count": 12,
   "metadata": {},
   "outputs": [],
   "source": [
    "list_dfout = []\n",
    "for chrom in ['2L', '2R', '3R', 'X']:\n",
    "  out_df = prep_cnv_tab(chrom)\n",
    "  list_dfout.append(out_df)\n",
    "\n",
    "cnv_df = pd.concat(list_dfout)\n",
    "cnv_df = cnv_df.set_index('dup')"
   ]
  },
  {
   "cell_type": "code",
   "execution_count": null,
   "metadata": {},
   "outputs": [
    {
     "data": {
      "text/html": [
       "<div>\n",
       "<style scoped>\n",
       "    .dataframe tbody tr th:only-of-type {\n",
       "        vertical-align: middle;\n",
       "    }\n",
       "\n",
       "    .dataframe tbody tr th {\n",
       "        vertical-align: top;\n",
       "    }\n",
       "\n",
       "    .dataframe thead th {\n",
       "        text-align: right;\n",
       "    }\n",
       "</style>\n",
       "<table border=\"1\" class=\"dataframe\">\n",
       "  <thead>\n",
       "    <tr style=\"text-align: right;\">\n",
       "      <th></th>\n",
       "      <th>DRC Forest (Tshopo)</th>\n",
       "      <th>DRC South East</th>\n",
       "      <th>DRC South West</th>\n",
       "      <th>DRC Far North</th>\n",
       "      <th>Zambia</th>\n",
       "      <th>Burkina Faso</th>\n",
       "      <th>Central African Republic</th>\n",
       "      <th>Cameroon</th>\n",
       "      <th>Tanzania</th>\n",
       "      <th>Uganda</th>\n",
       "    </tr>\n",
       "    <tr>\n",
       "      <th>dup</th>\n",
       "      <th></th>\n",
       "      <th></th>\n",
       "      <th></th>\n",
       "      <th></th>\n",
       "      <th></th>\n",
       "      <th></th>\n",
       "      <th></th>\n",
       "      <th></th>\n",
       "      <th></th>\n",
       "      <th></th>\n",
       "    </tr>\n",
       "  </thead>\n",
       "  <tbody>\n",
       "    <tr>\n",
       "      <th>Coeaexf_Dup0</th>\n",
       "      <td>0.0</td>\n",
       "      <td>0.009375</td>\n",
       "      <td>0.0</td>\n",
       "      <td>0.021739</td>\n",
       "      <td>0.004975</td>\n",
       "      <td>0.000000</td>\n",
       "      <td>0.000000</td>\n",
       "      <td>0.000000</td>\n",
       "      <td>0.0</td>\n",
       "      <td>0.004878</td>\n",
       "    </tr>\n",
       "    <tr>\n",
       "      <th>Coeaexf_Dup1</th>\n",
       "      <td>0.0</td>\n",
       "      <td>0.000000</td>\n",
       "      <td>0.0</td>\n",
       "      <td>0.000000</td>\n",
       "      <td>0.000000</td>\n",
       "      <td>0.000000</td>\n",
       "      <td>0.000000</td>\n",
       "      <td>0.000000</td>\n",
       "      <td>0.0</td>\n",
       "      <td>0.000000</td>\n",
       "    </tr>\n",
       "    <tr>\n",
       "      <th>Coeaexf_Dup2</th>\n",
       "      <td>0.0</td>\n",
       "      <td>0.000000</td>\n",
       "      <td>0.0</td>\n",
       "      <td>0.000000</td>\n",
       "      <td>0.000000</td>\n",
       "      <td>0.000000</td>\n",
       "      <td>0.000000</td>\n",
       "      <td>0.000000</td>\n",
       "      <td>0.0</td>\n",
       "      <td>0.000000</td>\n",
       "    </tr>\n",
       "    <tr>\n",
       "      <th>Coeaexf_Dup3</th>\n",
       "      <td>0.0</td>\n",
       "      <td>0.000000</td>\n",
       "      <td>0.0</td>\n",
       "      <td>0.000000</td>\n",
       "      <td>0.000000</td>\n",
       "      <td>0.000000</td>\n",
       "      <td>0.000000</td>\n",
       "      <td>0.000000</td>\n",
       "      <td>0.0</td>\n",
       "      <td>0.000000</td>\n",
       "    </tr>\n",
       "    <tr>\n",
       "      <th>Coeaexf_Dup4</th>\n",
       "      <td>0.0</td>\n",
       "      <td>0.000000</td>\n",
       "      <td>0.0</td>\n",
       "      <td>0.000000</td>\n",
       "      <td>0.000000</td>\n",
       "      <td>0.000000</td>\n",
       "      <td>0.000000</td>\n",
       "      <td>0.000000</td>\n",
       "      <td>0.0</td>\n",
       "      <td>0.000000</td>\n",
       "    </tr>\n",
       "    <tr>\n",
       "      <th>...</th>\n",
       "      <td>...</td>\n",
       "      <td>...</td>\n",
       "      <td>...</td>\n",
       "      <td>...</td>\n",
       "      <td>...</td>\n",
       "      <td>...</td>\n",
       "      <td>...</td>\n",
       "      <td>...</td>\n",
       "      <td>...</td>\n",
       "      <td>...</td>\n",
       "    </tr>\n",
       "    <tr>\n",
       "      <th>Cyp9k1_Dup24</th>\n",
       "      <td>0.0</td>\n",
       "      <td>0.000000</td>\n",
       "      <td>0.0</td>\n",
       "      <td>0.000000</td>\n",
       "      <td>0.000000</td>\n",
       "      <td>0.000000</td>\n",
       "      <td>0.000000</td>\n",
       "      <td>0.000000</td>\n",
       "      <td>0.0</td>\n",
       "      <td>0.000000</td>\n",
       "    </tr>\n",
       "    <tr>\n",
       "      <th>Cyp9k1_Dup25</th>\n",
       "      <td>0.0</td>\n",
       "      <td>0.000000</td>\n",
       "      <td>0.0</td>\n",
       "      <td>0.000000</td>\n",
       "      <td>0.000000</td>\n",
       "      <td>0.000000</td>\n",
       "      <td>0.000000</td>\n",
       "      <td>0.000000</td>\n",
       "      <td>0.0</td>\n",
       "      <td>0.000000</td>\n",
       "    </tr>\n",
       "    <tr>\n",
       "      <th>Cyp9k1_Dup26</th>\n",
       "      <td>0.0</td>\n",
       "      <td>0.000000</td>\n",
       "      <td>0.0</td>\n",
       "      <td>0.000000</td>\n",
       "      <td>0.000000</td>\n",
       "      <td>0.000000</td>\n",
       "      <td>0.000000</td>\n",
       "      <td>0.000000</td>\n",
       "      <td>0.0</td>\n",
       "      <td>0.000000</td>\n",
       "    </tr>\n",
       "    <tr>\n",
       "      <th>Cyp9k1_Dup27</th>\n",
       "      <td>0.0</td>\n",
       "      <td>0.000000</td>\n",
       "      <td>0.0</td>\n",
       "      <td>0.000000</td>\n",
       "      <td>0.000000</td>\n",
       "      <td>0.000000</td>\n",
       "      <td>0.000000</td>\n",
       "      <td>0.000000</td>\n",
       "      <td>0.0</td>\n",
       "      <td>0.000000</td>\n",
       "    </tr>\n",
       "    <tr>\n",
       "      <th>Cyp9k1_Dup28</th>\n",
       "      <td>0.0</td>\n",
       "      <td>0.000000</td>\n",
       "      <td>0.0</td>\n",
       "      <td>0.000000</td>\n",
       "      <td>0.000000</td>\n",
       "      <td>0.242105</td>\n",
       "      <td>0.254545</td>\n",
       "      <td>0.126316</td>\n",
       "      <td>0.0</td>\n",
       "      <td>0.000000</td>\n",
       "    </tr>\n",
       "  </tbody>\n",
       "</table>\n",
       "<p>127 rows × 10 columns</p>\n",
       "</div>"
      ],
      "text/plain": [
       "              DRC Forest (Tshopo)  DRC South East  DRC South West  \\\n",
       "dup                                                                 \n",
       "Coeaexf_Dup0                  0.0        0.009375             0.0   \n",
       "Coeaexf_Dup1                  0.0        0.000000             0.0   \n",
       "Coeaexf_Dup2                  0.0        0.000000             0.0   \n",
       "Coeaexf_Dup3                  0.0        0.000000             0.0   \n",
       "Coeaexf_Dup4                  0.0        0.000000             0.0   \n",
       "...                           ...             ...             ...   \n",
       "Cyp9k1_Dup24                  0.0        0.000000             0.0   \n",
       "Cyp9k1_Dup25                  0.0        0.000000             0.0   \n",
       "Cyp9k1_Dup26                  0.0        0.000000             0.0   \n",
       "Cyp9k1_Dup27                  0.0        0.000000             0.0   \n",
       "Cyp9k1_Dup28                  0.0        0.000000             0.0   \n",
       "\n",
       "              DRC Far North    Zambia  Burkina Faso  Central African Republic  \\\n",
       "dup                                                                             \n",
       "Coeaexf_Dup0       0.021739  0.004975      0.000000                  0.000000   \n",
       "Coeaexf_Dup1       0.000000  0.000000      0.000000                  0.000000   \n",
       "Coeaexf_Dup2       0.000000  0.000000      0.000000                  0.000000   \n",
       "Coeaexf_Dup3       0.000000  0.000000      0.000000                  0.000000   \n",
       "Coeaexf_Dup4       0.000000  0.000000      0.000000                  0.000000   \n",
       "...                     ...       ...           ...                       ...   \n",
       "Cyp9k1_Dup24       0.000000  0.000000      0.000000                  0.000000   \n",
       "Cyp9k1_Dup25       0.000000  0.000000      0.000000                  0.000000   \n",
       "Cyp9k1_Dup26       0.000000  0.000000      0.000000                  0.000000   \n",
       "Cyp9k1_Dup27       0.000000  0.000000      0.000000                  0.000000   \n",
       "Cyp9k1_Dup28       0.000000  0.000000      0.242105                  0.254545   \n",
       "\n",
       "              Cameroon  Tanzania    Uganda  \n",
       "dup                                         \n",
       "Coeaexf_Dup0  0.000000       0.0  0.004878  \n",
       "Coeaexf_Dup1  0.000000       0.0  0.000000  \n",
       "Coeaexf_Dup2  0.000000       0.0  0.000000  \n",
       "Coeaexf_Dup3  0.000000       0.0  0.000000  \n",
       "Coeaexf_Dup4  0.000000       0.0  0.000000  \n",
       "...                ...       ...       ...  \n",
       "Cyp9k1_Dup24  0.000000       0.0  0.000000  \n",
       "Cyp9k1_Dup25  0.000000       0.0  0.000000  \n",
       "Cyp9k1_Dup26  0.000000       0.0  0.000000  \n",
       "Cyp9k1_Dup27  0.000000       0.0  0.000000  \n",
       "Cyp9k1_Dup28  0.126316       0.0  0.000000  \n",
       "\n",
       "[127 rows x 10 columns]"
      ]
     },
     "execution_count": 16,
     "metadata": {},
     "output_type": "execute_result"
    }
   ],
   "source": [
    "cnv_df.to_csv('')"
   ]
  },
  {
   "cell_type": "code",
   "execution_count": 15,
   "metadata": {},
   "outputs": [
    {
     "data": {
      "application/vnd.plotly.v1+json": {
       "config": {
        "plotlyServerURL": "https://plot.ly"
       },
       "data": [
        {
         "coloraxis": "coloraxis",
         "hovertemplate": "x: %{x}<br>dup: %{y}<br>color: %{z}<extra></extra>",
         "name": "0",
         "type": "heatmap",
         "x": [
          "DRC Forest (Tshopo)",
          "DRC South East",
          "DRC South West",
          "DRC Far North",
          "Zambia",
          "Burkina Faso",
          "Central African Republic",
          "Cameroon",
          "Tanzania",
          "Uganda"
         ],
         "xaxis": "x",
         "y": [
          "Coeaexf_Dup0",
          "Coeaexf_Dup1",
          "Coeaexf_Dup2",
          "Coeaexf_Dup3",
          "Coeaexf_Dup4",
          "Coeaexf_Dup5",
          "Coeaexf_Dup6",
          "Coeaexf_Dup7",
          "Coeaexf_Dup8",
          "Coeaexg_Dup0",
          "Coeaexg_Dup1",
          "Coeaexg_Dup2",
          "Coeaexg_Dup3",
          "Coeaexg_Dup4",
          "Coeaexg_Dup5",
          "Coeaexg_Dup6",
          "Coeaexg_Dup7",
          "Coeaexg_Dup8",
          "Coeaexg_Dup9",
          "Coeaexg_Dup10",
          "Coeaexg_Dup11",
          "Coeaexg_Dup12",
          "Ace1_Dup0",
          "Ace1_Dup1",
          "Ace1_Dup2",
          "Ace1_Del1",
          "Ace1_Del2",
          "Ace1_Del3",
          "Ace1_Del4",
          "Cyp6aap_Dup0",
          "Cyp6aap_Dup1",
          "Cyp6aap_Dup1a",
          "Cyp6aap_Dup1b",
          "Cyp6aap_Dup2",
          "Cyp6aap_Dup3",
          "Cyp6aap_Dup4",
          "Cyp6aap_Dup5",
          "Cyp6aap_Dup6",
          "Cyp6aap_Dup7",
          "Cyp6aap_Dup8",
          "Cyp6aap_Dup9",
          "Cyp6aap_Dup10",
          "Cyp6aap_Dup11",
          "Cyp6aap_Dup12",
          "Cyp6aap_Dup13",
          "Cyp6aap_Dup14",
          "Cyp6aap_Dup15",
          "Cyp6aap_Dup16",
          "Cyp6aap_Dup17",
          "Cyp6aap_Dup18",
          "Cyp6aap_Dup19",
          "Cyp6aap_Dup20",
          "Cyp6aap_Dup21",
          "Cyp6aap_Dup22",
          "Cyp6aap_Dup23",
          "Cyp6aap_Dup24",
          "Cyp6aap_Dup25",
          "Cyp6aap_Dup26",
          "Cyp6aap_Dup27",
          "Cyp6aap_Dup28",
          "Cyp6aap_Dup29",
          "Cyp6aap_Dup30",
          "Cyp6aap_Dup31",
          "Cyp6aap_Dup32",
          "Cyp6aap_Dup33",
          "Cyp6aap_Dup34",
          "Cyp6aap_Dup35",
          "Cyp6aap_Dup36",
          "Cyp6aap_Dup37",
          "Cyp6mz_Dup0",
          "Cyp6mz_Dupm1",
          "Cyp6mz_Dupm2",
          "Cyp6mz_Dupm3",
          "Cyp6mz_Dupm4",
          "Cyp6mz_Dupm5",
          "Cyp6mz_Dupz1",
          "Cyp6mz_Dupz2",
          "Cyp6mz_Dupz3",
          "Cyp6mz_Dupz4",
          "Cyp6mz_Dupz5",
          "Cyp6mz_Dupmz1",
          "Gstue_Dup0",
          "Gstue_Dup1",
          "Gstue_Dup2",
          "Gstue_Dup3",
          "Gstue_Dup4",
          "Gstue_Dup5",
          "Gstue_Dup6",
          "Gstue_Dup7",
          "Gstue_Dup8",
          "Gstue_Dup9",
          "Gstue_Dup10",
          "Gstue_Dup11",
          "Gstue_Dup12",
          "Gstue_Dup13",
          "Gstue_Dup14",
          "Gstue_Dup15",
          "Gstue_Dup16",
          "Cyp9k1_Dup0",
          "Cyp9k1_Dup1",
          "Cyp9k1_Dup2",
          "Cyp9k1_Dup3",
          "Cyp9k1_Dup4",
          "Cyp9k1_Dup5",
          "Cyp9k1_Dup6",
          "Cyp9k1_Dup7",
          "Cyp9k1_Dup8",
          "Cyp9k1_Dup9",
          "Cyp9k1_Dup10",
          "Cyp9k1_Dup11",
          "Cyp9k1_Dup12",
          "Cyp9k1_Dup13",
          "Cyp9k1_Dup14",
          "Cyp9k1_Dup15",
          "Cyp9k1_Dup16",
          "Cyp9k1_Dup17",
          "Cyp9k1_Dup18",
          "Cyp9k1_Dup19",
          "Cyp9k1_Dup20",
          "Cyp9k1_Dup21",
          "Cyp9k1_Dup22",
          "Cyp9k1_Dup23",
          "Cyp9k1_Dup24",
          "Cyp9k1_Dup25",
          "Cyp9k1_Dup26",
          "Cyp9k1_Dup27",
          "Cyp9k1_Dup28"
         ],
         "yaxis": "y",
         "z": [
          [
           0,
           0.009375,
           0,
           0.021739130434782608,
           0.004975124378109453,
           0,
           0,
           0,
           0,
           0.004878048780487805
          ],
          [
           0,
           0,
           0,
           0,
           0,
           0,
           0,
           0,
           0,
           0
          ],
          [
           0,
           0,
           0,
           0,
           0,
           0,
           0,
           0,
           0,
           0
          ],
          [
           0,
           0,
           0,
           0,
           0,
           0,
           0,
           0,
           0,
           0
          ],
          [
           0,
           0,
           0,
           0,
           0,
           0,
           0,
           0,
           0,
           0
          ],
          [
           0,
           0,
           0,
           0,
           0,
           0,
           0,
           0,
           0,
           0
          ],
          [
           0,
           0,
           0,
           0,
           0,
           0,
           0,
           0,
           0,
           0
          ],
          [
           0,
           0,
           0,
           0,
           0,
           0,
           0,
           0,
           0,
           0
          ],
          [
           0,
           0,
           0,
           0,
           0,
           0,
           0,
           0,
           0,
           0
          ],
          [
           0,
           0.1,
           0.0106951871657754,
           0.021739130434782608,
           0.07462686567164178,
           0.12631578947368421,
           0.07272727272727272,
           0.042105263157894736,
           0,
           0.00975609756097561
          ],
          [
           0,
           0,
           0,
           0,
           0,
           0,
           0,
           0,
           0,
           0
          ],
          [
           0,
           0,
           0,
           0,
           0,
           0,
           0,
           0,
           0,
           0
          ],
          [
           0,
           0,
           0,
           0,
           0,
           0.042105263157894736,
           0,
           0,
           0,
           0
          ],
          [
           0,
           0,
           0.0053475935828877,
           0,
           0,
           0,
           0,
           0.010526315789473684,
           0,
           0.00975609756097561
          ],
          [
           0,
           0,
           0,
           0,
           0,
           0,
           0,
           0,
           0,
           0
          ],
          [
           0,
           0,
           0,
           0,
           0,
           0,
           0,
           0,
           0,
           0
          ],
          [
           0,
           0,
           0,
           0,
           0,
           0,
           0,
           0,
           0,
           0
          ],
          [
           0,
           0,
           0,
           0,
           0,
           0,
           0,
           0,
           0,
           0
          ],
          [
           0,
           0,
           0,
           0,
           0,
           0,
           0,
           0,
           0,
           0
          ],
          [
           0,
           0,
           0,
           0,
           0,
           0,
           0,
           0,
           0,
           0
          ],
          [
           0,
           0,
           0,
           0,
           0,
           0,
           0,
           0,
           0,
           0
          ],
          [
           0,
           0,
           0,
           0,
           0,
           0,
           0,
           0,
           0,
           0
          ],
          [
           0,
           0.00625,
           0,
           0,
           0,
           0.22105263157894736,
           0.18181818181818182,
           0.042105263157894736,
           0,
           0.004878048780487805
          ],
          [
           0,
           0,
           0,
           0,
           0,
           0.22105263157894736,
           0.18181818181818182,
           0.042105263157894736,
           0,
           0
          ],
          [
           0,
           0,
           0,
           0,
           0,
           0,
           0,
           0,
           0,
           0
          ],
          [
           0,
           0,
           0,
           0,
           0,
           0.10526315789473684,
           0.07272727272727272,
           0.021052631578947368,
           0,
           0
          ],
          [
           0,
           0,
           0,
           0,
           0,
           0.021052631578947368,
           0,
           0,
           0,
           0
          ],
          [
           0,
           0,
           0,
           0,
           0,
           0,
           0.01818181818181818,
           0,
           0,
           0
          ],
          [
           0,
           0,
           0,
           0,
           0,
           0,
           0,
           0,
           0,
           0
          ],
          [
           0.6101694915254238,
           0.534375,
           0.1711229946524064,
           0.8478260869565217,
           0.8507462686567164,
           0.42105263157894735,
           0.509090909090909,
           0.12631578947368421,
           0,
           0.004878048780487805
          ],
          [
           0,
           0,
           0,
           0,
           0,
           0,
           0,
           0,
           0,
           0
          ],
          [
           0.6101694915254238,
           0.0375,
           0.03208556149732621,
           0.8695652173913043,
           0,
           0,
           0,
           0,
           0,
           0
          ],
          [
           0,
           0,
           0,
           0,
           0,
           0.021052631578947368,
           0.05454545454545454,
           0.021052631578947368,
           0,
           0
          ],
          [
           0,
           0,
           0,
           0,
           0,
           0,
           0,
           0.010526315789473684,
           0,
           0
          ],
          [
           0,
           0.003125,
           0,
           0,
           0.004975124378109453,
           0,
           0,
           0,
           0,
           0.004878048780487805
          ],
          [
           0,
           0,
           0,
           0,
           0,
           0.021052631578947368,
           0,
           0.010526315789473684,
           0,
           0
          ],
          [
           0,
           0,
           0,
           0,
           0,
           0,
           0,
           0,
           0,
           0
          ],
          [
           0,
           0,
           0,
           0,
           0,
           0,
           0,
           0,
           0,
           0.004878048780487805
          ],
          [
           0,
           0,
           0,
           0,
           0,
           0.21052631578947367,
           0.2545454545454545,
           0.031578947368421054,
           0,
           0
          ],
          [
           0,
           0,
           0,
           0,
           0,
           0.010526315789473684,
           0.03636363636363636,
           0,
           0,
           0
          ],
          [
           0,
           0,
           0,
           0,
           0,
           0,
           0,
           0,
           0,
           0
          ],
          [
           0,
           0,
           0,
           0,
           0,
           0.21052631578947367,
           0.2909090909090909,
           0.05263157894736842,
           0,
           0
          ],
          [
           0,
           0,
           0,
           0,
           0,
           0,
           0,
           0,
           0,
           0
          ],
          [
           0,
           0,
           0,
           0,
           0,
           0,
           0,
           0,
           0,
           0
          ],
          [
           0,
           0,
           0,
           0,
           0,
           0,
           0,
           0,
           0,
           0
          ],
          [
           0,
           0,
           0,
           0,
           0,
           0.010526315789473684,
           0.01818181818181818,
           0,
           0,
           0
          ],
          [
           0,
           0,
           0,
           0,
           0,
           0.010526315789473684,
           0,
           0,
           0,
           0
          ],
          [
           0,
           0,
           0,
           0,
           0,
           0,
           0.03636363636363636,
           0,
           0,
           0
          ],
          [
           0,
           0,
           0,
           0,
           0,
           0,
           0,
           0,
           0,
           0
          ],
          [
           0,
           0,
           0,
           0,
           0,
           0,
           0,
           0,
           0,
           0
          ],
          [
           0,
           0,
           0,
           0,
           0,
           0,
           0,
           0,
           0,
           0
          ],
          [
           0,
           0,
           0,
           0,
           0,
           0,
           0,
           0.010526315789473684,
           0,
           0
          ],
          [
           0,
           0,
           0,
           0,
           0,
           0,
           0,
           0,
           0,
           0
          ],
          [
           0,
           0,
           0,
           0,
           0,
           0,
           0,
           0,
           0,
           0
          ],
          [
           0,
           0,
           0,
           0,
           0,
           0,
           0,
           0,
           0,
           0
          ],
          [
           0,
           0,
           0,
           0,
           0,
           0,
           0,
           0,
           0,
           0
          ],
          [
           0,
           0,
           0,
           0,
           0,
           0,
           0,
           0,
           0,
           0
          ],
          [
           0,
           0,
           0,
           0,
           0,
           0,
           0,
           0,
           0,
           0
          ],
          [
           0,
           0,
           0,
           0,
           0,
           0,
           0,
           0,
           0,
           0
          ],
          [
           0,
           0,
           0,
           0,
           0,
           0,
           0,
           0,
           0,
           0
          ],
          [
           0,
           0,
           0,
           0,
           0,
           0,
           0,
           0,
           0,
           0
          ],
          [
           0,
           0,
           0,
           0,
           0,
           0,
           0,
           0,
           0,
           0
          ],
          [
           0,
           0,
           0,
           0,
           0,
           0,
           0,
           0,
           0,
           0
          ],
          [
           0,
           0,
           0,
           0,
           0,
           0,
           0,
           0,
           0,
           0
          ],
          [
           0,
           0,
           0,
           0,
           0,
           0,
           0,
           0,
           0,
           0
          ],
          [
           0,
           0,
           0,
           0,
           0,
           0,
           0,
           0,
           0,
           0
          ],
          [
           0,
           0,
           0,
           0,
           0,
           0,
           0,
           0,
           0,
           0
          ],
          [
           0,
           0,
           0,
           0,
           0,
           0,
           0,
           0,
           0,
           0
          ],
          [
           0,
           0,
           0,
           0,
           0,
           0,
           0,
           0,
           0,
           0
          ],
          [
           0.059322033898305086,
           0.1125,
           0.09090909090909091,
           0.06521739130434782,
           0.08955223880597014,
           0.14736842105263157,
           0.21818181818181817,
           0.06315789473684211,
           0.0625,
           0.07804878048780488
          ],
          [
           0,
           0,
           0,
           0,
           0,
           0,
           0,
           0,
           0,
           0
          ],
          [
           0.00847457627118644,
           0,
           0.0053475935828877,
           0,
           0,
           0,
           0.01818181818181818,
           0,
           0.03125,
           0.024390243902439025
          ],
          [
           0,
           0,
           0,
           0,
           0,
           0,
           0,
           0,
           0,
           0
          ],
          [
           0,
           0,
           0,
           0,
           0,
           0,
           0,
           0,
           0,
           0
          ],
          [
           0,
           0,
           0,
           0,
           0,
           0,
           0,
           0,
           0,
           0
          ],
          [
           0,
           0,
           0,
           0,
           0,
           0.09473684210526316,
           0.12727272727272726,
           0.031578947368421054,
           0,
           0
          ],
          [
           0,
           0,
           0,
           0,
           0,
           0,
           0,
           0,
           0,
           0
          ],
          [
           0,
           0,
           0,
           0,
           0,
           0,
           0,
           0,
           0,
           0.004878048780487805
          ],
          [
           0,
           0,
           0,
           0,
           0,
           0,
           0,
           0,
           0,
           0
          ],
          [
           0,
           0,
           0,
           0,
           0,
           0,
           0,
           0,
           0,
           0
          ],
          [
           0,
           0,
           0,
           0,
           0,
           0,
           0,
           0,
           0,
           0
          ],
          [
           0.17796610169491525,
           0.40625,
           0.7433155080213903,
           0.08695652173913043,
           0.39303482587064675,
           0.10526315789473684,
           0.10909090909090909,
           0.042105263157894736,
           0.0625,
           0.05365853658536585
          ],
          [
           0,
           0,
           0,
           0,
           0,
           0.10526315789473684,
           0.09090909090909091,
           0.031578947368421054,
           0,
           0
          ],
          [
           0,
           0.003125,
           0,
           0.021739130434782608,
           0,
           0,
           0,
           0,
           0,
           0
          ],
          [
           0,
           0.003125,
           0,
           0.021739130434782608,
           0,
           0,
           0,
           0,
           0,
           0
          ],
          [
           0.15254237288135594,
           0.034375,
           0.7112299465240641,
           0.043478260869565216,
           0,
           0,
           0,
           0,
           0.03125,
           0.014634146341463415
          ],
          [
           0,
           0,
           0,
           0,
           0,
           0,
           0,
           0,
           0,
           0.024390243902439025
          ],
          [
           0,
           0,
           0,
           0,
           0,
           0,
           0,
           0,
           0,
           0
          ],
          [
           0,
           0,
           0,
           0,
           0,
           0.010526315789473684,
           0.01818181818181818,
           0.010526315789473684,
           0,
           0
          ],
          [
           0.00847457627118644,
           0.03125,
           0,
           0,
           0,
           0,
           0,
           0,
           0,
           0
          ],
          [
           0,
           0,
           0,
           0,
           0,
           0,
           0,
           0,
           0,
           0
          ],
          [
           0.00847457627118644,
           0,
           0,
           0,
           0,
           0,
           0,
           0.021052631578947368,
           0,
           0.00975609756097561
          ],
          [
           0,
           0,
           0,
           0,
           0,
           0,
           0,
           0,
           0,
           0
          ],
          [
           0,
           0,
           0,
           0,
           0,
           0,
           0,
           0,
           0,
           0
          ],
          [
           0,
           0,
           0,
           0,
           0,
           0,
           0,
           0,
           0,
           0
          ],
          [
           0,
           0,
           0,
           0,
           0,
           0,
           0,
           0,
           0,
           0
          ],
          [
           0.00847457627118644,
           0.340625,
           0.0481283422459893,
           0,
           0.3681592039800995,
           0,
           0,
           0,
           0,
           0
          ],
          [
           0,
           0,
           0,
           0,
           0,
           0,
           0,
           0,
           0,
           0
          ],
          [
           0.025423728813559324,
           0.046875,
           0.6524064171122995,
           0.15217391304347827,
           0.009950248756218905,
           0.5052631578947369,
           0.45454545454545453,
           0.25263157894736843,
           0.03125,
           0.04878048780487805
          ],
          [
           0,
           0,
           0,
           0,
           0,
           0,
           0,
           0,
           0.03125,
           0
          ],
          [
           0,
           0,
           0,
           0,
           0,
           0,
           0,
           0,
           0,
           0
          ],
          [
           0,
           0,
           0,
           0,
           0,
           0,
           0,
           0,
           0,
           0
          ],
          [
           0,
           0,
           0,
           0.021739130434782608,
           0,
           0.09473684210526316,
           0.09090909090909091,
           0.07368421052631578,
           0,
           0.00975609756097561
          ],
          [
           0,
           0.003125,
           0,
           0,
           0,
           0,
           0,
           0,
           0,
           0
          ],
          [
           0,
           0,
           0,
           0,
           0,
           0,
           0,
           0,
           0,
           0
          ],
          [
           0,
           0,
           0,
           0,
           0,
           0.031578947368421054,
           0.07272727272727272,
           0.021052631578947368,
           0,
           0.004878048780487805
          ],
          [
           0.00847457627118644,
           0.01875,
           0,
           0.06521739130434782,
           0,
           0,
           0,
           0,
           0,
           0
          ],
          [
           0,
           0,
           0,
           0,
           0,
           0,
           0,
           0,
           0,
           0.01951219512195122
          ],
          [
           0,
           0,
           0,
           0,
           0,
           0.010526315789473684,
           0,
           0,
           0,
           0
          ],
          [
           0,
           0,
           0,
           0,
           0,
           0.2631578947368421,
           0.34545454545454546,
           0.18947368421052632,
           0.03125,
           0.014634146341463415
          ],
          [
           0,
           0,
           0,
           0,
           0,
           0,
           0,
           0,
           0,
           0
          ],
          [
           0,
           0,
           0,
           0,
           0,
           0.010526315789473684,
           0,
           0.010526315789473684,
           0,
           0
          ],
          [
           0,
           0,
           0,
           0,
           0,
           0.010526315789473684,
           0.01818181818181818,
           0,
           0,
           0
          ],
          [
           0,
           0,
           0,
           0,
           0,
           0,
           0,
           0,
           0,
           0
          ],
          [
           0,
           0.003125,
           0,
           0,
           0,
           0,
           0,
           0,
           0,
           0
          ],
          [
           0,
           0,
           0,
           0,
           0,
           0,
           0,
           0,
           0,
           0
          ],
          [
           0,
           0,
           0,
           0,
           0,
           0,
           0,
           0,
           0,
           0
          ],
          [
           0,
           0,
           0,
           0,
           0,
           0,
           0,
           0,
           0,
           0
          ],
          [
           0,
           0,
           0,
           0,
           0,
           0,
           0,
           0,
           0,
           0
          ],
          [
           0,
           0,
           0,
           0,
           0,
           0,
           0,
           0,
           0,
           0
          ],
          [
           0,
           0,
           0,
           0,
           0,
           0,
           0,
           0,
           0,
           0
          ],
          [
           0,
           0,
           0,
           0,
           0,
           0,
           0,
           0,
           0,
           0
          ],
          [
           0,
           0,
           0,
           0,
           0,
           0,
           0,
           0,
           0,
           0
          ],
          [
           0,
           0,
           0,
           0,
           0,
           0,
           0,
           0,
           0,
           0
          ],
          [
           0,
           0,
           0,
           0,
           0,
           0,
           0,
           0,
           0,
           0
          ],
          [
           0,
           0,
           0,
           0,
           0,
           0,
           0,
           0,
           0,
           0
          ],
          [
           0,
           0,
           0,
           0,
           0,
           0.24210526315789474,
           0.2545454545454545,
           0.12631578947368421,
           0,
           0
          ]
         ]
        }
       ],
       "layout": {
        "coloraxis": {
         "colorscale": [
          [
           0,
           "#0d0887"
          ],
          [
           0.1111111111111111,
           "#46039f"
          ],
          [
           0.2222222222222222,
           "#7201a8"
          ],
          [
           0.3333333333333333,
           "#9c179e"
          ],
          [
           0.4444444444444444,
           "#bd3786"
          ],
          [
           0.5555555555555556,
           "#d8576b"
          ],
          [
           0.6666666666666666,
           "#ed7953"
          ],
          [
           0.7777777777777778,
           "#fb9f3a"
          ],
          [
           0.8888888888888888,
           "#fdca26"
          ],
          [
           1,
           "#f0f921"
          ]
         ]
        },
        "height": 1200,
        "margin": {
         "t": 60
        },
        "template": {
         "data": {
          "bar": [
           {
            "error_x": {
             "color": "#2a3f5f"
            },
            "error_y": {
             "color": "#2a3f5f"
            },
            "marker": {
             "line": {
              "color": "#E5ECF6",
              "width": 0.5
             },
             "pattern": {
              "fillmode": "overlay",
              "size": 10,
              "solidity": 0.2
             }
            },
            "type": "bar"
           }
          ],
          "barpolar": [
           {
            "marker": {
             "line": {
              "color": "#E5ECF6",
              "width": 0.5
             },
             "pattern": {
              "fillmode": "overlay",
              "size": 10,
              "solidity": 0.2
             }
            },
            "type": "barpolar"
           }
          ],
          "carpet": [
           {
            "aaxis": {
             "endlinecolor": "#2a3f5f",
             "gridcolor": "white",
             "linecolor": "white",
             "minorgridcolor": "white",
             "startlinecolor": "#2a3f5f"
            },
            "baxis": {
             "endlinecolor": "#2a3f5f",
             "gridcolor": "white",
             "linecolor": "white",
             "minorgridcolor": "white",
             "startlinecolor": "#2a3f5f"
            },
            "type": "carpet"
           }
          ],
          "choropleth": [
           {
            "colorbar": {
             "outlinewidth": 0,
             "ticks": ""
            },
            "type": "choropleth"
           }
          ],
          "contour": [
           {
            "colorbar": {
             "outlinewidth": 0,
             "ticks": ""
            },
            "colorscale": [
             [
              0,
              "#0d0887"
             ],
             [
              0.1111111111111111,
              "#46039f"
             ],
             [
              0.2222222222222222,
              "#7201a8"
             ],
             [
              0.3333333333333333,
              "#9c179e"
             ],
             [
              0.4444444444444444,
              "#bd3786"
             ],
             [
              0.5555555555555556,
              "#d8576b"
             ],
             [
              0.6666666666666666,
              "#ed7953"
             ],
             [
              0.7777777777777778,
              "#fb9f3a"
             ],
             [
              0.8888888888888888,
              "#fdca26"
             ],
             [
              1,
              "#f0f921"
             ]
            ],
            "type": "contour"
           }
          ],
          "contourcarpet": [
           {
            "colorbar": {
             "outlinewidth": 0,
             "ticks": ""
            },
            "type": "contourcarpet"
           }
          ],
          "heatmap": [
           {
            "colorbar": {
             "outlinewidth": 0,
             "ticks": ""
            },
            "colorscale": [
             [
              0,
              "#0d0887"
             ],
             [
              0.1111111111111111,
              "#46039f"
             ],
             [
              0.2222222222222222,
              "#7201a8"
             ],
             [
              0.3333333333333333,
              "#9c179e"
             ],
             [
              0.4444444444444444,
              "#bd3786"
             ],
             [
              0.5555555555555556,
              "#d8576b"
             ],
             [
              0.6666666666666666,
              "#ed7953"
             ],
             [
              0.7777777777777778,
              "#fb9f3a"
             ],
             [
              0.8888888888888888,
              "#fdca26"
             ],
             [
              1,
              "#f0f921"
             ]
            ],
            "type": "heatmap"
           }
          ],
          "heatmapgl": [
           {
            "colorbar": {
             "outlinewidth": 0,
             "ticks": ""
            },
            "colorscale": [
             [
              0,
              "#0d0887"
             ],
             [
              0.1111111111111111,
              "#46039f"
             ],
             [
              0.2222222222222222,
              "#7201a8"
             ],
             [
              0.3333333333333333,
              "#9c179e"
             ],
             [
              0.4444444444444444,
              "#bd3786"
             ],
             [
              0.5555555555555556,
              "#d8576b"
             ],
             [
              0.6666666666666666,
              "#ed7953"
             ],
             [
              0.7777777777777778,
              "#fb9f3a"
             ],
             [
              0.8888888888888888,
              "#fdca26"
             ],
             [
              1,
              "#f0f921"
             ]
            ],
            "type": "heatmapgl"
           }
          ],
          "histogram": [
           {
            "marker": {
             "pattern": {
              "fillmode": "overlay",
              "size": 10,
              "solidity": 0.2
             }
            },
            "type": "histogram"
           }
          ],
          "histogram2d": [
           {
            "colorbar": {
             "outlinewidth": 0,
             "ticks": ""
            },
            "colorscale": [
             [
              0,
              "#0d0887"
             ],
             [
              0.1111111111111111,
              "#46039f"
             ],
             [
              0.2222222222222222,
              "#7201a8"
             ],
             [
              0.3333333333333333,
              "#9c179e"
             ],
             [
              0.4444444444444444,
              "#bd3786"
             ],
             [
              0.5555555555555556,
              "#d8576b"
             ],
             [
              0.6666666666666666,
              "#ed7953"
             ],
             [
              0.7777777777777778,
              "#fb9f3a"
             ],
             [
              0.8888888888888888,
              "#fdca26"
             ],
             [
              1,
              "#f0f921"
             ]
            ],
            "type": "histogram2d"
           }
          ],
          "histogram2dcontour": [
           {
            "colorbar": {
             "outlinewidth": 0,
             "ticks": ""
            },
            "colorscale": [
             [
              0,
              "#0d0887"
             ],
             [
              0.1111111111111111,
              "#46039f"
             ],
             [
              0.2222222222222222,
              "#7201a8"
             ],
             [
              0.3333333333333333,
              "#9c179e"
             ],
             [
              0.4444444444444444,
              "#bd3786"
             ],
             [
              0.5555555555555556,
              "#d8576b"
             ],
             [
              0.6666666666666666,
              "#ed7953"
             ],
             [
              0.7777777777777778,
              "#fb9f3a"
             ],
             [
              0.8888888888888888,
              "#fdca26"
             ],
             [
              1,
              "#f0f921"
             ]
            ],
            "type": "histogram2dcontour"
           }
          ],
          "mesh3d": [
           {
            "colorbar": {
             "outlinewidth": 0,
             "ticks": ""
            },
            "type": "mesh3d"
           }
          ],
          "parcoords": [
           {
            "line": {
             "colorbar": {
              "outlinewidth": 0,
              "ticks": ""
             }
            },
            "type": "parcoords"
           }
          ],
          "pie": [
           {
            "automargin": true,
            "type": "pie"
           }
          ],
          "scatter": [
           {
            "fillpattern": {
             "fillmode": "overlay",
             "size": 10,
             "solidity": 0.2
            },
            "type": "scatter"
           }
          ],
          "scatter3d": [
           {
            "line": {
             "colorbar": {
              "outlinewidth": 0,
              "ticks": ""
             }
            },
            "marker": {
             "colorbar": {
              "outlinewidth": 0,
              "ticks": ""
             }
            },
            "type": "scatter3d"
           }
          ],
          "scattercarpet": [
           {
            "marker": {
             "colorbar": {
              "outlinewidth": 0,
              "ticks": ""
             }
            },
            "type": "scattercarpet"
           }
          ],
          "scattergeo": [
           {
            "marker": {
             "colorbar": {
              "outlinewidth": 0,
              "ticks": ""
             }
            },
            "type": "scattergeo"
           }
          ],
          "scattergl": [
           {
            "marker": {
             "colorbar": {
              "outlinewidth": 0,
              "ticks": ""
             }
            },
            "type": "scattergl"
           }
          ],
          "scattermapbox": [
           {
            "marker": {
             "colorbar": {
              "outlinewidth": 0,
              "ticks": ""
             }
            },
            "type": "scattermapbox"
           }
          ],
          "scatterpolar": [
           {
            "marker": {
             "colorbar": {
              "outlinewidth": 0,
              "ticks": ""
             }
            },
            "type": "scatterpolar"
           }
          ],
          "scatterpolargl": [
           {
            "marker": {
             "colorbar": {
              "outlinewidth": 0,
              "ticks": ""
             }
            },
            "type": "scatterpolargl"
           }
          ],
          "scatterternary": [
           {
            "marker": {
             "colorbar": {
              "outlinewidth": 0,
              "ticks": ""
             }
            },
            "type": "scatterternary"
           }
          ],
          "surface": [
           {
            "colorbar": {
             "outlinewidth": 0,
             "ticks": ""
            },
            "colorscale": [
             [
              0,
              "#0d0887"
             ],
             [
              0.1111111111111111,
              "#46039f"
             ],
             [
              0.2222222222222222,
              "#7201a8"
             ],
             [
              0.3333333333333333,
              "#9c179e"
             ],
             [
              0.4444444444444444,
              "#bd3786"
             ],
             [
              0.5555555555555556,
              "#d8576b"
             ],
             [
              0.6666666666666666,
              "#ed7953"
             ],
             [
              0.7777777777777778,
              "#fb9f3a"
             ],
             [
              0.8888888888888888,
              "#fdca26"
             ],
             [
              1,
              "#f0f921"
             ]
            ],
            "type": "surface"
           }
          ],
          "table": [
           {
            "cells": {
             "fill": {
              "color": "#EBF0F8"
             },
             "line": {
              "color": "white"
             }
            },
            "header": {
             "fill": {
              "color": "#C8D4E3"
             },
             "line": {
              "color": "white"
             }
            },
            "type": "table"
           }
          ]
         },
         "layout": {
          "annotationdefaults": {
           "arrowcolor": "#2a3f5f",
           "arrowhead": 0,
           "arrowwidth": 1
          },
          "autotypenumbers": "strict",
          "coloraxis": {
           "colorbar": {
            "outlinewidth": 0,
            "ticks": ""
           }
          },
          "colorscale": {
           "diverging": [
            [
             0,
             "#8e0152"
            ],
            [
             0.1,
             "#c51b7d"
            ],
            [
             0.2,
             "#de77ae"
            ],
            [
             0.3,
             "#f1b6da"
            ],
            [
             0.4,
             "#fde0ef"
            ],
            [
             0.5,
             "#f7f7f7"
            ],
            [
             0.6,
             "#e6f5d0"
            ],
            [
             0.7,
             "#b8e186"
            ],
            [
             0.8,
             "#7fbc41"
            ],
            [
             0.9,
             "#4d9221"
            ],
            [
             1,
             "#276419"
            ]
           ],
           "sequential": [
            [
             0,
             "#0d0887"
            ],
            [
             0.1111111111111111,
             "#46039f"
            ],
            [
             0.2222222222222222,
             "#7201a8"
            ],
            [
             0.3333333333333333,
             "#9c179e"
            ],
            [
             0.4444444444444444,
             "#bd3786"
            ],
            [
             0.5555555555555556,
             "#d8576b"
            ],
            [
             0.6666666666666666,
             "#ed7953"
            ],
            [
             0.7777777777777778,
             "#fb9f3a"
            ],
            [
             0.8888888888888888,
             "#fdca26"
            ],
            [
             1,
             "#f0f921"
            ]
           ],
           "sequentialminus": [
            [
             0,
             "#0d0887"
            ],
            [
             0.1111111111111111,
             "#46039f"
            ],
            [
             0.2222222222222222,
             "#7201a8"
            ],
            [
             0.3333333333333333,
             "#9c179e"
            ],
            [
             0.4444444444444444,
             "#bd3786"
            ],
            [
             0.5555555555555556,
             "#d8576b"
            ],
            [
             0.6666666666666666,
             "#ed7953"
            ],
            [
             0.7777777777777778,
             "#fb9f3a"
            ],
            [
             0.8888888888888888,
             "#fdca26"
            ],
            [
             1,
             "#f0f921"
            ]
           ]
          },
          "colorway": [
           "#636efa",
           "#EF553B",
           "#00cc96",
           "#ab63fa",
           "#FFA15A",
           "#19d3f3",
           "#FF6692",
           "#B6E880",
           "#FF97FF",
           "#FECB52"
          ],
          "font": {
           "color": "#2a3f5f"
          },
          "geo": {
           "bgcolor": "white",
           "lakecolor": "white",
           "landcolor": "#E5ECF6",
           "showlakes": true,
           "showland": true,
           "subunitcolor": "white"
          },
          "hoverlabel": {
           "align": "left"
          },
          "hovermode": "closest",
          "mapbox": {
           "style": "light"
          },
          "paper_bgcolor": "white",
          "plot_bgcolor": "#E5ECF6",
          "polar": {
           "angularaxis": {
            "gridcolor": "white",
            "linecolor": "white",
            "ticks": ""
           },
           "bgcolor": "#E5ECF6",
           "radialaxis": {
            "gridcolor": "white",
            "linecolor": "white",
            "ticks": ""
           }
          },
          "scene": {
           "xaxis": {
            "backgroundcolor": "#E5ECF6",
            "gridcolor": "white",
            "gridwidth": 2,
            "linecolor": "white",
            "showbackground": true,
            "ticks": "",
            "zerolinecolor": "white"
           },
           "yaxis": {
            "backgroundcolor": "#E5ECF6",
            "gridcolor": "white",
            "gridwidth": 2,
            "linecolor": "white",
            "showbackground": true,
            "ticks": "",
            "zerolinecolor": "white"
           },
           "zaxis": {
            "backgroundcolor": "#E5ECF6",
            "gridcolor": "white",
            "gridwidth": 2,
            "linecolor": "white",
            "showbackground": true,
            "ticks": "",
            "zerolinecolor": "white"
           }
          },
          "shapedefaults": {
           "line": {
            "color": "#2a3f5f"
           }
          },
          "ternary": {
           "aaxis": {
            "gridcolor": "white",
            "linecolor": "white",
            "ticks": ""
           },
           "baxis": {
            "gridcolor": "white",
            "linecolor": "white",
            "ticks": ""
           },
           "bgcolor": "#E5ECF6",
           "caxis": {
            "gridcolor": "white",
            "linecolor": "white",
            "ticks": ""
           }
          },
          "title": {
           "x": 0.05
          },
          "xaxis": {
           "automargin": true,
           "gridcolor": "white",
           "linecolor": "white",
           "ticks": "",
           "title": {
            "standoff": 15
           },
           "zerolinecolor": "white",
           "zerolinewidth": 2
          },
          "yaxis": {
           "automargin": true,
           "gridcolor": "white",
           "linecolor": "white",
           "ticks": "",
           "title": {
            "standoff": 15
           },
           "zerolinecolor": "white",
           "zerolinewidth": 2
          }
         }
        },
        "width": 1200,
        "xaxis": {
         "anchor": "y",
         "constrain": "domain",
         "domain": [
          0,
          1
         ],
         "scaleanchor": "y"
        },
        "yaxis": {
         "anchor": "x",
         "autorange": "reversed",
         "constrain": "domain",
         "domain": [
          0,
          1
         ],
         "title": {
          "text": "dup"
         }
        }
       }
      }
     },
     "metadata": {},
     "output_type": "display_data"
    }
   ],
   "source": [
    "fig = px.imshow(cnv_df, width=1200, height=1200)\n",
    "fig.show()"
   ]
  }
 ],
 "metadata": {
  "kernelspec": {
   "display_name": "malariagen",
   "language": "python",
   "name": "python3"
  },
  "language_info": {
   "codemirror_mode": {
    "name": "ipython",
    "version": 3
   },
   "file_extension": ".py",
   "mimetype": "text/x-python",
   "name": "python",
   "nbconvert_exporter": "python",
   "pygments_lexer": "ipython3",
   "version": "3.10.10"
  }
 },
 "nbformat": 4,
 "nbformat_minor": 2
}
